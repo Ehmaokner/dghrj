{
  "nbformat": 4,
  "nbformat_minor": 0,
  "metadata": {
    "colab": {
      "name": "Untitled5.ipynb",
      "provenance": []
    },
    "kernelspec": {
      "name": "python3",
      "display_name": "Python 3"
    },
    "language_info": {
      "name": "python"
    }
  },
  "cells": [
    {
      "cell_type": "code",
      "metadata": {
        "id": "yAbcZAo-XDoS",
        "colab": {
          "base_uri": "https://localhost:8080/",
          "height": 231
        },
        "outputId": "00469e72-4d0f-4fe2-8884-09ac723c4c50"
      },
      "source": [
        "a= (\"This is CSE110 course, Programming is FUN, We love Pytho\")\n",
        "b = a.values()\n",
        "c=list(b)\n",
        "sum = 0\n",
        "for x in c:\n",
        "  sum=sum+x\n",
        "count=0\n",
        "for y in c:\n",
        "  count=count+1\n",
        "print('Average is',int(sum/count))\n"
      ],
      "execution_count": 2,
      "outputs": [
        {
          "output_type": "error",
          "ename": "NameError",
          "evalue": "ignored",
          "traceback": [
            "\u001b[0;31m---------------------------------------------------------------------------\u001b[0m",
            "\u001b[0;31mNameError\u001b[0m                                 Traceback (most recent call last)",
            "\u001b[0;32m<ipython-input-2-fc8db8e33561>\u001b[0m in \u001b[0;36m<module>\u001b[0;34m()\u001b[0m\n\u001b[1;32m      1\u001b[0m \u001b[0ma\u001b[0m\u001b[0;34m=\u001b[0m \u001b[0;34m(\u001b[0m\u001b[0;34m\"This is CSE110 course, Programming is FUN, We love Pytho\"\u001b[0m\u001b[0;34m)\u001b[0m\u001b[0;34m\u001b[0m\u001b[0;34m\u001b[0m\u001b[0m\n\u001b[1;32m      2\u001b[0m \u001b[0;31m#b = a.values()\u001b[0m\u001b[0;34m\u001b[0m\u001b[0;34m\u001b[0m\u001b[0;34m\u001b[0m\u001b[0m\n\u001b[0;32m----> 3\u001b[0;31m \u001b[0mc\u001b[0m\u001b[0;34m=\u001b[0m\u001b[0mlist\u001b[0m\u001b[0;34m(\u001b[0m\u001b[0mb\u001b[0m\u001b[0;34m)\u001b[0m\u001b[0;34m\u001b[0m\u001b[0;34m\u001b[0m\u001b[0m\n\u001b[0m\u001b[1;32m      4\u001b[0m \u001b[0msum\u001b[0m \u001b[0;34m=\u001b[0m \u001b[0;36m0\u001b[0m\u001b[0;34m\u001b[0m\u001b[0;34m\u001b[0m\u001b[0m\n\u001b[1;32m      5\u001b[0m \u001b[0;32mfor\u001b[0m \u001b[0mx\u001b[0m \u001b[0;32min\u001b[0m \u001b[0mc\u001b[0m\u001b[0;34m:\u001b[0m\u001b[0;34m\u001b[0m\u001b[0;34m\u001b[0m\u001b[0m\n",
            "\u001b[0;31mNameError\u001b[0m: name 'b' is not defined"
          ]
        }
      ]
    },
    {
      "cell_type": "code",
      "metadata": {
        "colab": {
          "base_uri": "https://localhost:8080/",
          "height": 129
        },
        "id": "TultJeMpj9aV",
        "outputId": "4c0a4195-17ed-4798-91f6-22eef14a30fb"
      },
      "source": [
        " num = (8,7,6,9)\n",
        "{       \n",
        "  int i,n,sum=0:\n",
        "\tfloat avg:\n",
        "\tprintf(\"Input the 10 numbers : \\n\"):\n",
        "\tfor (i=1;i<=10;i++)\n",
        "\t{\n",
        "                printf(\"Number-%d :\",i):\n",
        "\n",
        "\t\tscanf(\"%d\",&n);\n",
        "\t\tsum +=n:\n",
        "\t}\n",
        "\tavg=sum/10.0:\n",
        "\tprintf(\"The sum of 10 no is : %d\\nThe Average is : %f\\n\",sum,avg):\n",
        " \n",
        "}"
      ],
      "execution_count": 13,
      "outputs": [
        {
          "output_type": "error",
          "ename": "SyntaxError",
          "evalue": "ignored",
          "traceback": [
            "\u001b[0;36m  File \u001b[0;32m\"<ipython-input-13-97dca3047734>\"\u001b[0;36m, line \u001b[0;32m3\u001b[0m\n\u001b[0;31m    int i,n,sum=0:\u001b[0m\n\u001b[0m        ^\u001b[0m\n\u001b[0;31mSyntaxError\u001b[0m\u001b[0;31m:\u001b[0m invalid syntax\n"
          ]
        }
      ]
    }
  ]
}